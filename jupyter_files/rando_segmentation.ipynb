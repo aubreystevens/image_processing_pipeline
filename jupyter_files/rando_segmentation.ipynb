{
 "cells": [
  {
   "cell_type": "markdown",
   "metadata": {},
   "source": [
    "### Image Props Again on Boundary Image"
   ]
  },
  {
   "cell_type": "code",
   "execution_count": null,
   "metadata": {},
   "outputs": [],
   "source": [
    "# Produce binary image with cells=1 and background=0 and gives each cell a unique identifier\n",
    "im_labeled, n_labels = skimage.measure.label(im_mark_boundaries, background=0, return_num=True)\n",
    "\n",
    "# Extract the cells from background\n",
    "im_props = skimage.measure.regionprops(im_labeled)"
   ]
  },
  {
   "cell_type": "code",
   "execution_count": null,
   "metadata": {},
   "outputs": [],
   "source": [
    "# These are better determined by the whole dataset\n",
    "min_area = 2000\n",
    "max_eccentricity = .8\n",
    "\n",
    "# Loop through image properties and delete small objects and objects that aren't circular enough\n",
    "n_regions = 0\n",
    "for prop in im_props:\n",
    "    # Measure of roundness, ensuring cells are at least somewhat round\n",
    "    area = prop.area\n",
    "    if prop.area < min_area:\n",
    "        im_mark_boundaries[im_labeled == prop.label] = False\n",
    "    else:\n",
    "        n_regions += 1\n",
    "'''elif prop.eccentricity > max_eccentricity:\n",
    "im_mark_boundaries[im_labeled == prop.label] = False'''"
   ]
  },
  {
   "cell_type": "code",
   "execution_count": null,
   "metadata": {},
   "outputs": [],
   "source": [
    "bokeh.io.show(bi1x.viz.imshow(im_mark_boundaries))"
   ]
  },
  {
   "cell_type": "markdown",
   "metadata": {},
   "source": [
    "### Image Props on Boundary Image With Dimensional Separation"
   ]
  },
  {
   "cell_type": "code",
   "execution_count": null,
   "metadata": {},
   "outputs": [],
   "source": [
    "array = np.array([find_boundaries[200], find_boundaries[201]])"
   ]
  },
  {
   "cell_type": "code",
   "execution_count": null,
   "metadata": {},
   "outputs": [],
   "source": [
    "bokeh.io.show(bi1x.viz.imshow(array))"
   ]
  },
  {
   "cell_type": "code",
   "execution_count": null,
   "metadata": {},
   "outputs": [],
   "source": [
    "pixel_array = np.empty(shape=(512, 512), dtype=np.byte)\n",
    "\n",
    "for x in range(len(find_boundaries)):\n",
    "    for y in range(len(find_boundaries)):\n",
    "        pixel = find_boundaries[x][y]\n",
    "        pixel_array[x][y] = pixel"
   ]
  },
  {
   "cell_type": "code",
   "execution_count": null,
   "metadata": {},
   "outputs": [],
   "source": [
    "bokeh.io.show(bi1x.viz.imshow(pixel_array))"
   ]
  },
  {
   "cell_type": "code",
   "execution_count": null,
   "metadata": {},
   "outputs": [],
   "source": [
    "# Median filtering\n",
    "im_med_filt = skimage.filters.median(im_dct['Data/out/max_c3_test_im.tiff'])\n",
    "\n",
    "# Otsu threshold\n",
    "otsu_thresh = skimage.filters.threshold_otsu(im_med_filt)\n",
    "\n",
    "im_otsu_thresh = im_med_filt > otsu_thresh\n",
    "\n",
    "# Clear partial cells around edges\n",
    "im_cleared_edges = skimage.segmentation.clear_border(im_otsu_thresh, buffer_size=10)\n",
    "\n",
    "# Watershed segmentation, try to split the cells from each other\n",
    "distance = ndimage.distance_transform_edt(im_med_filt)\n",
    "local_maxi = skimage.feature.peak_local_max(distance, indices=False, footprint=np.ones((3, 3)), labels=image)\n",
    "markers = skimage.morphology.label(local_maxi)\n",
    "labels_ws = skimage.morphology.watershed(-distance, markers, mask=image)\n",
    "\n",
    "# Random Walker Segmentation\n",
    "im_to_invert = im_med_filt.astype(np.int)\n",
    "markers[~im_to_invert] = -1\n",
    "labels_rw = skimage.segmentation.random_walker(im_to_invert, markers)\n",
    "\n",
    "\n",
    "# Random Props Segmentation\n",
    "# Produce binary image with cells=1 and background=0 and gives each cell a unique identifier\n",
    "im_labeled, n_labels = skimage.measure.label(im_cleared_edges, background=0, return_num=True)\n",
    "# Extract the cells from background\n",
    "im_props = skimage.measure.regionprops(im_labeled)\n",
    "# These are better determined by the whole dataset\n",
    "min_area = 5000\n",
    "max_eccentricity = .7\n",
    "# Loop through image properties and delete small objects and objects that aren't circular enough\n",
    "n_regions = 0\n",
    "for prop in im_props:\n",
    "    # Measure of roundness, ensuring cells are at least somewhat round\n",
    "    area = prop.area\n",
    "    if prop.area < min_area:\n",
    "        im_cleared_edges[im_labeled == prop.label] = False\n",
    "    else:\n",
    "        n_regions += 1\n",
    "'''    elif prop.eccentricity > max_eccentricity:\n",
    "        im_cleared_edges[im_labeled == prop.label] = False'''\n",
    "\n",
    "\n",
    "# Chan Vese\n",
    "# Changing the mu value changes how circular of objects it's sensing\n",
    "im_chan_vese = skimage.segmentation.chan_vese(im_med_filt, mu=.75)\n",
    "segmentation = im_chan_vese[0]\n",
    "final_level_set = im_chan_vese[1]\n",
    "energies = im_chan_vese[2]\n",
    "\n",
    "\n",
    "# Feltzenszwalb Segmentation\n",
    "im_felzenswalb = skimage.segmentation.felzenszwalb(im_med_filt, scale=2.0, multichannel=False)\n",
    "\n",
    "\n",
    "# Find Boundaries\n",
    "find_boundaries = skimage.segmentation.find_boundaries(im_cleared_edges, connectivity=10, mode='inner')\n",
    "\n",
    "# Mark Boundaries\n",
    "im_mark_boundaries = skimage.segmentation.mark_boundaries(im_cleared_edges, find_boundaries)"
   ]
  },
  {
   "cell_type": "code",
   "execution_count": null,
   "metadata": {},
   "outputs": [],
   "source": [
    "def combine_xist_dapi1(im_xist, im_dapi, min_area):\n",
    "    '''Takes an input of an image array as a numpy array segmented in the \n",
    "    DAPI channel and a numpy array segmented in the XIST channel and removes\n",
    "    XIST signal not within cells. Also compresses the DAPI channel into 2D \n",
    "    and merges the DAPI and XIST images into different layers of an RGB image.\n",
    "    Must meet the minimum area (between 0 and 1)\n",
    "    \n",
    "    Returns a numpy array of cells with XIST signal in them.'''\n",
    "    labeled_im_xist = skimage.measure.label(im_xist)\n",
    "    labeled_im_dapi = skimage.measure.label(im_dapi)\n",
    "    \n",
    "    # Making XIST im 2D\n",
    "    for region in skimage.measure.regionprops(labeled_im_xist):\n",
    "        for coord in region.coords:\n",
    "            (x,y,z) = coord\n",
    "            labeled_im_xist[x][y][0] = 0\n",
    "            labeled_im_xist[x][y][1] = 1\n",
    "            labeled_im_xist[x][y][2] = 0\n",
    "            \n",
    "    # Initialize dictionary for area counts\n",
    "    xist_area_count_dct = {}\n",
    "    dapi_area_count_dct = {}\n",
    "    \n",
    "            \n",
    "    # Make DAPI 2D and add Xist onto layer of RGB image\n",
    "    for region in skimage.measure.regionprops(labeled_im_dapi):\n",
    "        # Initialize area counts for XIST in a cell, restarts with each new cell\n",
    "        xist_area_count = 0\n",
    "        dapi_area_count = 0\n",
    "        for coord in region.coords:\n",
    "            (x, y, z) = coord\n",
    "            labeled_im_dapi[x][y][0] = 1\n",
    "            labeled_im_dapi[x][y][2] = 0\n",
    "            dapi_area_count += 1\n",
    "            if labeled_im_xist[x][y][1] == 1:\n",
    "                xist_area_count += 1\n",
    "        # Need to raise error if min_area not between 0 and 1\n",
    "        print(xist_area_count / dapi_area_count)\n",
    "        \n",
    "        # If the ratio of xist to cell size is greater than the min area, add XIST to image\n",
    "        if xist_area_count / dapi_area_count > min_area:\n",
    "            for coord in region.coords:\n",
    "                if labeled_im_xist[x][y][1] == 1:\n",
    "                    labeled_im_dapi[x][y][1] = 1\n",
    "                    \n",
    "                # Otherwise, this cell won't be used for data, so remove it from the image\n",
    "                else:\n",
    "                    labeled_im_dapi[x][y][0] = 0\n",
    "                    labeled_im_dapi[x][y][1] = 0\n",
    "                    labeled_im_dapi[x][y][2] = 0\n",
    "        xist_area_count_dct[region.centroid] = xist_area_count\n",
    "        dapi_area_count_dct[region.centroid] = dapi_area_count\n",
    "    return (labeled_im_dapi, xist_area_count_dct, dapi_area_count_dct)"
   ]
  },
  {
   "cell_type": "code",
   "execution_count": null,
   "metadata": {},
   "outputs": [],
   "source": [
    "def combine_xist_dapi2(im_xist, im_dapi):\n",
    "    '''Takes an input of an image array as a numpy array segmented in the \n",
    "    DAPI channel and a numpy array segmented in the XIST channel and removes\n",
    "    XIST signal not within cells. Also compresses the DAPI channel into 2D \n",
    "    and merges the DAPI and XIST images into different layers of an RGB image.\n",
    "    \n",
    "    Returns a numpy array of cells with XIST signal in them.'''\n",
    "    labeled_im_xist = skimage.measure.label(im_xist)\n",
    "    labeled_im_dapi = skimage.measure.label(im_dapi)\n",
    "    \n",
    "    # Making XIST im 2D\n",
    "    for region in skimage.measure.regionprops(labeled_im_xist):\n",
    "        for coord in region.coords:\n",
    "            (x,y,z) = coord\n",
    "            labeled_im_xist[x][y][0] = 0\n",
    "            labeled_im_xist[x][y][1] = 1\n",
    "            labeled_im_xist[x][y][2] = 0\n",
    "            \n",
    "    # Initialize dictionary for area counts\n",
    "    xist_area_count_dct = {}\n",
    "    \n",
    "            \n",
    "    # Make DAPI 2D and add Xist onto layer of RGB image\n",
    "    for region in skimage.measure.regionprops(labeled_im_dapi):\n",
    "        # Initialize area counts for XIST in a cell, restarts with each new cell\n",
    "        xist_area_count = 0\n",
    "        for coord in region.coords:\n",
    "            (x, y, z) = coord\n",
    "            labeled_im_dapi[x][y][0] = 1\n",
    "            labeled_im_dapi[x][y][2] = 0\n",
    "            if labeled_im_xist[x][y][1] == 1:\n",
    "                labeled_im_dapi[x][y][1] = 1\n",
    "                xist_area_count += 1\n",
    "        xist_area_count_dct[region.centroid] = xist_area_count\n",
    "    return (labeled_im_dapi, xist_area_count_dct)"
   ]
  }
 ],
 "metadata": {
  "kernelspec": {
   "display_name": "Python 3",
   "language": "python",
   "name": "python3"
  },
  "language_info": {
   "codemirror_mode": {
    "name": "ipython",
    "version": 3
   },
   "file_extension": ".py",
   "mimetype": "text/x-python",
   "name": "python",
   "nbconvert_exporter": "python",
   "pygments_lexer": "ipython3",
   "version": "3.7.7"
  }
 },
 "nbformat": 4,
 "nbformat_minor": 4
}
