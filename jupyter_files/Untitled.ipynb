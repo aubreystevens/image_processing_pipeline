{
 "cells": [
  {
   "cell_type": "code",
   "execution_count": null,
   "metadata": {},
   "outputs": [],
   "source": [
    "def make_ims_2d(im_marker, im_dapi):\n",
    "    '''Takes in two images in 3d and compresses them into 2D image. Takes in \n",
    "    two numpy arrays and returns two numpy arrays.'''\n",
    "    labeled_im_marker = skimage.measure.label(im_marker)\n",
    "    labeled_im_dapi = skimage.measure.label(im_dapi)\n",
    "    \n",
    "    # Making marker im 2D\n",
    "    for region in skimage.measure.regionprops(labeled_im_marker):\n",
    "        for coord in region.coords:\n",
    "            (x,y,z) = coord\n",
    "            labeled_im_marker[x][y][0] = 0\n",
    "            labeled_im_marker[x][y][1] = 1\n",
    "            labeled_im_marker[x][y][2] = 0\n",
    "            \n",
    "    for region in skimage.measure.regionprops(labeled_im_dapi):\n",
    "        for coord in region.coords:\n",
    "            (x,y,z) = coord\n",
    "            labeled_im_dapi[x][y][0] = 1\n",
    "            labeled_im_dapi[x][y][1] = 0\n",
    "            labeled_im_dapi[x][y][2] = 0\n",
    "    return (labeled_im_marker, labeled_im_dapi)"
   ]
  },
  {
   "cell_type": "code",
   "execution_count": null,
   "metadata": {},
   "outputs": [],
   "source": [
    "def apply_dapi_segmentation(im_marker, im_dapi):\n",
    "    '''Takes an input of an image array as a numpy array segmented in the \n",
    "    DAPI channel and a numpy array segmented in another channel,\n",
    "    both already labeled and compressed to 2D array and applies the DAPI \n",
    "    segmentation to the image. \n",
    "    \n",
    "    Returns an image array as a numpy array.'''\n",
    "    (labeled_im_marker, labeled_im_dapi) = make_ims_2d(im_marker, im_dapi)\n",
    "            \n",
    "    # Initialize dictionary for number of markers in cells\n",
    "    num_markers_in_cell = {}\n",
    "    \n",
    "            \n",
    "    # Make DAPI 2D and add Xist onto layer of RGB image\n",
    "    for region in skimage.measure.regionprops(labeled_im_dapi):\n",
    "        for coord in region.coords:\n",
    "            (x, y, z) = coord\n",
    "            labeled_im_dapi[x][y][0] = 1\n",
    "            labeled_im_dapi[x][y][2] = 0\n",
    "            if labeled_im_marker[x][y][1] == 1:\n",
    "                labeled_im_dapi[x][y][1] = 1\n",
    "    return labeled_im_dapi"
   ]
  },
  {
   "cell_type": "code",
   "execution_count": null,
   "metadata": {},
   "outputs": [],
   "source": [
    "def marker_areas(im_marker, im_dapi):\n",
    "    '''Takes in an input of an image with the dapi and marker channels merged.\n",
    "    \n",
    "    Creates a distribution of the areas of the markers within a cell and only takes\n",
    "    the brightest % based on the dist_thresh value'''\n",
    "    \n",
    "    (labeled_im_marker, labeled_im_dapi) = make_ims_2d(im_marker, im_dapi)\n",
    "    merged_im = apply_dapi_segmentation(labeled_im_marker, labeled_im_dapi)\n",
    "    area_dct = {}\n",
    "    area_lst = []\n",
    "    \n",
    "    for dapi_region in skimage.measure.regionprops(labeled_im_dapi):\n",
    "        dapi_coords = dapi_region.coords\n",
    "        (x_dapi, y_dapi, z_dapi) = dapi_coords\n",
    "        for marker_region in skimage.measure.regionprops(labeled_im_marker):\n",
    "            marker_coords = marker_region.coords\n",
    "            (x_marker, y_marker, z_marker) = marker_coords\n",
    "            i = 0\n",
    "            for marker_coord in marker_coords:\n",
    "                if labeled_im_marker[x_marker][y_marker][1] == 1:\n",
    "                    if marker_coord in dapi_coords:\n",
    "                        for i in range(1):\n",
    "                            area = marker_region.area\n",
    "                            centroid = marker_region.centroid\n",
    "                            area_dct[centroid] = area\n",
    "                            area_lst.append(area)\n",
    "                            i += 1\n",
    "    area_array = np.array(area_lst)\n",
    "    return area_dct, area_array"
   ]
  }
 ],
 "metadata": {
  "kernelspec": {
   "display_name": "Python 3",
   "language": "python",
   "name": "python3"
  },
  "language_info": {
   "codemirror_mode": {
    "name": "ipython",
    "version": 3
   },
   "file_extension": ".py",
   "mimetype": "text/x-python",
   "name": "python",
   "nbconvert_exporter": "python",
   "pygments_lexer": "ipython3",
   "version": "3.7.7"
  }
 },
 "nbformat": 4,
 "nbformat_minor": 4
}
